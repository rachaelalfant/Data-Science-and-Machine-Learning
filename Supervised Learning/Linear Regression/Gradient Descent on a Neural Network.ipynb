{
 "cells": [
  {
   "cell_type": "markdown",
   "metadata": {},
   "source": [
    "# Gradient Descent on a Neural Network\n",
    "\n",
    "- $\\textit{Gradient Descent}$ is a general iterative method for solving the problem: \n",
    "\n",
    "  $\\min_{x \\in \\mathbb{R}^n} f(x)$, \n",
    "  \n",
    "  where f(x) is some differentiable function. \n",
    "  \n",
    "- $\\textit{Neural Networks}$ are powerful function approximators with the following components:\n",
    "  1. Weights \n",
    "  2. Bias\n",
    "  3. Activation function\n",
    "  4. Loss function\n",
    "  \n",
    "In this module, we train a neural network algorithm using gradient descent."
   ]
  },
  {
   "cell_type": "markdown",
   "metadata": {},
   "source": [
    "The following packages are required to run the attached code:\n",
    "\n",
    "- [Matplotlib.pyplot](https://matplotlib.org/stable/api/_as_gen/matplotlib.pyplot.html)\n",
    "- [Numpy](https://numpy.org/doc/)"
   ]
  },
  {
   "cell_type": "code",
   "execution_count": 1,
   "metadata": {},
   "outputs": [],
   "source": [
    "# import the relevant libraries\n",
    "import matplotlib.pyplot as plt\n",
    "import numpy as np"
   ]
  },
  {
   "cell_type": "markdown",
   "metadata": {},
   "source": [
    "---\n",
    "\n",
    "We generate two random vectors of length 10:\n",
    "\n",
    "---"
   ]
  },
  {
   "cell_type": "code",
   "execution_count": 11,
   "metadata": {},
   "outputs": [],
   "source": [
    "dim = 10\n",
    "X = np.random.rand(dim)\n",
    "y = np.random.rand(dim)"
   ]
  },
  {
   "cell_type": "markdown",
   "metadata": {},
   "source": [
    "# The Loss Function\n",
    "\n",
    "- The $\\textit{Loss Function}$ measures the prediction error of the neural net. We will use the Mean Squared Error (MSE), which has the following formula:\n",
    "\n",
    "  $L(w,b ; x^j) = \\frac{1}{2M} \\sum_{j=1}^M ( w*x^j + b - y^j )^2$, \n",
    "\n",
    "  where M is the number of data points.\n",
    "\n",
    "- In order to minimize the error, we find: $argmin_{w,b} L(w,b)$. Since this is quadratic (convex), we can proceed with gradient descent. \n",
    "\n",
    "- To use gradient decent, we must find the gradient of our loss function, L. \n",
    "\n",
    "- We have that: \n",
    "\n",
    "  $\\frac{\\partial L}{\\partial w} = \\frac{1}{M} \\sum_{j=1}^M (w*x^j + b - y^j)x^j$\n",
    "\n",
    "  $\\frac{\\partial L}{\\partial b} = \\frac{1}{M} \\sum_{j=1}^M w*x^j + b - y^j$\n",
    "\n",
    "  Therefore: $\\nabla L(w,b) = [\\frac{\\partial L}{\\partial w} ; \\frac{\\partial L}{\\partial b}]$\n"
   ]
  },
  {
   "cell_type": "code",
   "execution_count": 16,
   "metadata": {},
   "outputs": [],
   "source": [
    "# we use the formulas above to define our loss and gradient functions\n",
    "\n",
    "def Loss(X,y,w,b):\n",
    "    M = len(y)\n",
    "    MSE_loss = (1/M)*sum(0.5*(x*w + b - y[i])**2 for i,x in enumerate(X))\n",
    "    return MSE_loss\n",
    "\n",
    "def gradL(X,y,w,b):\n",
    "    M = len(y)\n",
    "    partial_w = (1/M)*sum((x*w + b - y[i])*x for i,x in enumerate(X))\n",
    "    partial_b = (1/M)*sum((x*w + b - y[i]) for i,x in enumerate(X))\n",
    "    return partial_w, partial_b"
   ]
  },
  {
   "cell_type": "markdown",
   "metadata": {},
   "source": [
    "# The Gradient Descent Algorithm:\n",
    "\n",
    " - choose a step size, $\\alpha$ (we use 0.02 for this project), and set the maximum number of iterations\n",
    " - initialize iter = 0\n",
    " - randomly choose w and b\n",
    " - while iter < maxiter do:\n",
    "    1. $w = w - \\alpha \\frac{\\partial L}{\\partial w}$\n",
    "    2. $b = b - \\alpha \\frac{\\partial L}{\\partial b}$\n",
    "    3. $iter = iter + 1$"
   ]
  },
  {
   "cell_type": "code",
   "execution_count": 15,
   "metadata": {},
   "outputs": [
    {
     "name": "stdout",
     "output_type": "stream",
     "text": [
      "Loss at iter10=0.15136630310806126\n",
      "Loss at iter50=0.05717462179288196\n",
      "Loss at iter100=0.04385252366843487\n",
      "Loss at iter500=0.038323263626854454\n"
     ]
    },
    {
     "data": {
      "image/png": "[encoded data removed]",
      "text/plain": [
       "<Figure size 864x576 with 1 Axes>"
      ]
     },
     "metadata": {
      "needs_background": "light"
     },
     "output_type": "display_data"
    }
   ],
   "source": [
    "# implementing the algorithm\n",
    "\n",
    "alpha = 0.02\n",
    "random_vec = np.random.rand(2)\n",
    "w = random_vec[0]\n",
    "b = random_vec[1]\n",
    "\n",
    "plt.figure(figsize=(12,8))\n",
    "plt.scatter(X,y)\n",
    "\n",
    "# want to check on progress at iters 10, 50, 100, 500\n",
    "colors = {10:'blue', 50:'green', 100:'orange', 500:'red'}\n",
    "for i in range(501):\n",
    "    dw,db = gradL(X,y,w,b)\n",
    "    w = w - alpha*dw\n",
    "    b = b - alpha*db\n",
    "    L = Loss(X,y,w,b)\n",
    "    if i in [10,50,100,500]:\n",
    "        print(f'Loss at iter{i}={L}')\n",
    "        plt.plot(X,[w*x + b for x in np.array(X)],\n",
    "        label = f'iter{i}',\n",
    "        color = colors[i])\n",
    "plt.legend()\n",
    "plt.show()"
   ]
  },
  {
   "cell_type": "markdown",
   "metadata": {},
   "source": [
    "---\n",
    "\n",
    "Observe that the lines cluster closer together as the number of iterations increases, which indicates the algorithm is converging. Furthermore, the lines get closer to all of the data points as the number of iterations increases, which indicates our algorithm is working correctly!\n",
    "\n",
    "---"
   ]
  }
 ],
 "metadata": {
  "kernelspec": {
   "display_name": "Python 3",
   "language": "python",
   "name": "python3"
  },
  "language_info": {
   "codemirror_mode": {
    "name": "ipython",
    "version": 3
   },
   "file_extension": ".py",
   "mimetype": "text/x-python",
   "name": "python",
   "nbconvert_exporter": "python",
   "pygments_lexer": "ipython3",
   "version": "3.7.4"
  }
 },
 "nbformat": 4,
 "nbformat_minor": 2
}

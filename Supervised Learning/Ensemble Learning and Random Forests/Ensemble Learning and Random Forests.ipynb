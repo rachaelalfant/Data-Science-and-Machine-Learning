{
 "cells": [
  {
   "cell_type": "markdown",
   "metadata": {},
   "source": [
    "## Ensemble Learning and Random Forests\n",
    "\n",
    "- An __Ensemble__ is a group of predictors. \n",
    "- An __Ensemble Learning Algorithm__, or __Ensemble Method__, refers to the technique of using an ensemble to obtain better predictions than with any one of the individual predictors. This technique works particularly well if the individual predictors that make up the ensemble make different types of errors.\n",
    "\n",
    "- A __Decision Tree__ contains decision nodes, where the data are split according to certain parameters, and leaves, which encode the final outcomes. \n",
    "- An ensemble of Decision Trees is called a __Random Forest__. Random Forests take the predictions of the individual decision trees in the ensemble and output the prediction with the most 'votes', i.e. the most common classification predicted by the decision trees. \n",
    "\n",
    "- __Bagging and Pasting__ refers to the technique of training the classifiers on the same algorithm, but on different (random) subsets of the training data, which allows for us to sample training instances multiple times across multiple predictors. Note that while __Bagging__ refers to sampling with replacement, __Pasting__ performs sampling without replacement. \n",
    "\n",
    "### In this module, we:\n",
    "1. Train a voting classifier in Scikit-Learn, composed of the Random Forest, SVC (Support Vector Classification), and MLP (Multi-layer Perceptron) Classifiers, and\n",
    "2. Train a bagging classifier in Scikit-Learn via a Decision Tree Classifier. \n",
    "\n",
    "-------\n",
    "\n",
    "The following packages are required to run the attached code:\n",
    "\n",
    "- [sklearn.ensemble](https://scikit-learn.org/stable/modules/ensemble.html)\n",
    "- [sklearn.svm](https://scikit-learn.org/stable/modules/generated/sklearn.svm.SVC.html)\n",
    "- [sklearn.neural_network](https://scikit-learn.org/stable/modules/neural_networks_supervised.html)\n",
    "- [sklearn.datasets](https://scikit-learn.org/stable/datasets/toy_dataset.html)\n",
    "- [sklearn.model_selection](https://scikit-learn.org/stable/modules/generated/sklearn.model_selection.train_test_split.html)\n",
    "- [matplotlib.pyplot](https://matplotlib.org/stable/api/_as_gen/matplotlib.pyplot.html)"
   ]
  },
  {
   "cell_type": "code",
   "execution_count": 1,
   "metadata": {},
   "outputs": [],
   "source": [
    "# import the data\n",
    "from sklearn.datasets import make_classification\n",
    "\n",
    "# import the relevant libraries\n",
    "from sklearn.ensemble import RandomForestClassifier\n",
    "from sklearn.ensemble import VotingClassifier\n",
    "from sklearn.neural_network import MLPClassifier\n",
    "from sklearn.svm import SVC\n",
    "\n",
    "from sklearn.model_selection import train_test_split\n",
    "\n",
    "import matplotlib.pyplot as plt"
   ]
  },
  {
   "cell_type": "code",
   "execution_count": 19,
   "metadata": {},
   "outputs": [
    {
     "data": {
      "text/plain": [
       "<matplotlib.collections.PathCollection at 0x1a2bd7fd10>"
      ]
     },
     "execution_count": 19,
     "metadata": {},
     "output_type": "execute_result"
    },
    {
     "data": {
      "image/png": "[encoded data removed]",
      "text/plain": [
       "<Figure size 432x288 with 1 Axes>"
      ]
     },
     "metadata": {
      "needs_background": "light"
     },
     "output_type": "display_data"
    }
   ],
   "source": [
    "X, y = make_classification()\n",
    "colors = [\"blue\" if label == 1 else \"orange\" for label in y] \n",
    "plt.scatter(X[:, 0], X[:, 1], c = colors)"
   ]
  },
  {
   "cell_type": "code",
   "execution_count": 20,
   "metadata": {},
   "outputs": [],
   "source": [
    "# split the data into training and testing sets\n",
    "X_train, X_test, y_train, y_test = train_test_split(X, y, random_state = 42)"
   ]
  },
  {
   "cell_type": "markdown",
   "metadata": {},
   "source": [
    "---\n",
    "\n",
    "In the code below, we obtain what is referred to as a __Hard Voting Classifier__ by taking each prediction made by each classifier in the ensemble and predicting the class that gets the most votes. \n",
    "\n",
    "We expect this majority-vote classifier to achieve a higher accuracy than the other classifiers in the ensemble.\n",
    "\n",
    "---"
   ]
  },
  {
   "cell_type": "code",
   "execution_count": 21,
   "metadata": {},
   "outputs": [
    {
     "name": "stderr",
     "output_type": "stream",
     "text": [
      "/Users/rachaelalfant/opt/anaconda3/lib/python3.7/site-packages/sklearn/neural_network/_multilayer_perceptron.py:585: ConvergenceWarning: Stochastic Optimizer: Maximum iterations (200) reached and the optimization hasn't converged yet.\n",
      "  % self.max_iter, ConvergenceWarning)\n"
     ]
    },
    {
     "data": {
      "text/plain": [
       "VotingClassifier(estimators=[('lr', MLPClassifier()), ('svm', SVC()),\n",
       "                             ('rf', RandomForestClassifier())])"
      ]
     },
     "execution_count": 21,
     "metadata": {},
     "output_type": "execute_result"
    }
   ],
   "source": [
    "rand_clf = RandomForestClassifier()\n",
    "svm_clf = SVC()\n",
    "mlp_clf = MLPClassifier()\n",
    "voting_clf = VotingClassifier(estimators = [('lr', mlp_clf), ('svm', svm_clf), ('rf', rand_clf)], voting = 'hard')\n",
    "\n",
    "voting_clf.fit(X_train, y_train)"
   ]
  },
  {
   "cell_type": "code",
   "execution_count": 22,
   "metadata": {},
   "outputs": [
    {
     "name": "stdout",
     "output_type": "stream",
     "text": [
      "SVC, accuracy score = 0.92\n"
     ]
    },
    {
     "name": "stderr",
     "output_type": "stream",
     "text": [
      "/Users/rachaelalfant/opt/anaconda3/lib/python3.7/site-packages/sklearn/neural_network/_multilayer_perceptron.py:585: ConvergenceWarning: Stochastic Optimizer: Maximum iterations (200) reached and the optimization hasn't converged yet.\n",
      "  % self.max_iter, ConvergenceWarning)\n"
     ]
    },
    {
     "name": "stdout",
     "output_type": "stream",
     "text": [
      "MLPClassifier, accuracy score = 0.8\n",
      "RandomForestClassifier, accuracy score = 0.92\n"
     ]
    },
    {
     "name": "stderr",
     "output_type": "stream",
     "text": [
      "/Users/rachaelalfant/opt/anaconda3/lib/python3.7/site-packages/sklearn/neural_network/_multilayer_perceptron.py:585: ConvergenceWarning: Stochastic Optimizer: Maximum iterations (200) reached and the optimization hasn't converged yet.\n",
      "  % self.max_iter, ConvergenceWarning)\n"
     ]
    },
    {
     "name": "stdout",
     "output_type": "stream",
     "text": [
      "VotingClassifier, accuracy score = 0.96\n"
     ]
    }
   ],
   "source": [
    "from sklearn.metrics import accuracy_score\n",
    "for clf in [svm_clf, mlp_clf, rand_clf, voting_clf]:\n",
    "    clf.fit(X_train, y_train)\n",
    "    y_pred = clf.predict(X_test)\n",
    "    print(f'{clf.__class__.__name__}, accuracy score = {accuracy_score(y_test, y_pred)}')"
   ]
  },
  {
   "cell_type": "markdown",
   "metadata": {},
   "source": [
    "---\n",
    "\n",
    "As expected, the Voting Classifier has a higher accuracy score than the others. Now, in the following code, we train the __Bagging Ensemble__:\n",
    "\n",
    "---"
   ]
  },
  {
   "cell_type": "code",
   "execution_count": 23,
   "metadata": {},
   "outputs": [
    {
     "data": {
      "text/plain": [
       "0.92"
      ]
     },
     "execution_count": 23,
     "metadata": {},
     "output_type": "execute_result"
    }
   ],
   "source": [
    "from sklearn.tree import DecisionTreeClassifier\n",
    "from sklearn.ensemble import BaggingClassifier\n",
    "\n",
    "# Change \"bootstrap\" to \"False\" if Pasting, instead of Bagging.\n",
    "bag_clf = BaggingClassifier(DecisionTreeClassifier(), n_estimators=500, max_samples=70, bootstrap = True, n_jobs = -1)\n",
    "bag_clf.fit(X_train, y_train)\n",
    "y_pred = bag_clf.predict(X_test)\n",
    "accuracy_score(y_test, y_pred)"
   ]
  },
  {
   "cell_type": "markdown",
   "metadata": {},
   "source": [
    "---\n",
    "\n",
    "While the Bagging Classifier obtains a very higher accuracy (92%), the Voting Classifier still outperforms it.\n",
    "\n",
    "---"
   ]
  }
 ],
 "metadata": {
  "kernelspec": {
   "display_name": "Python 3",
   "language": "python",
   "name": "python3"
  },
  "language_info": {
   "codemirror_mode": {
    "name": "ipython",
    "version": 3
   },
   "file_extension": ".py",
   "mimetype": "text/x-python",
   "name": "python",
   "nbconvert_exporter": "python",
   "pygments_lexer": "ipython3",
   "version": "3.7.4"
  }
 },
 "nbformat": 4,
 "nbformat_minor": 2
}
